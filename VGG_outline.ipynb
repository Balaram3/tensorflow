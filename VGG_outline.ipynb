{
  "nbformat": 4,
  "nbformat_minor": 0,
  "metadata": {
    "colab": {
      "name": "VGG_outline.ipynb",
      "provenance": [],
      "collapsed_sections": [],
      "authorship_tag": "ABX9TyNwgVzsnLuWHHQn06rWui2b"
    },
    "kernelspec": {
      "name": "python3",
      "display_name": "Python 3"
    }
  },
  "cells": [
    {
      "cell_type": "code",
      "metadata": {
        "id": "E9eFdrD2NWo_",
        "colab_type": "code",
        "colab": {}
      },
      "source": [
        "import tensorflow as tf\n",
        "import cv2 as cv\n",
        "import numpy as np\n",
        "\n",
        "\n"
      ],
      "execution_count": 0,
      "outputs": []
    },
    {
      "cell_type": "code",
      "metadata": {
        "id": "jRsPZOMfcyA0",
        "colab_type": "code",
        "colab": {}
      },
      "source": [
        "def vgg_block(number_of_channels,no_of_convNets):\n",
        "  vBlock=tf.keras.Sequential()\n",
        "  for _ in range(no_of_convNets):\n",
        "    vBlock.add(tf.keras.layers.Conv2D(number_of_channels,kernel_size=3,padding=(1,1),activation=tf.nn.relu))\n",
        "  vBlock.add(tf.keras.layers.MaxPool2D(pool_size=(2,2),strides=2))\n",
        "  return vBlock"
      ],
      "execution_count": 0,
      "outputs": []
    },
    {
      "cell_type": "code",
      "metadata": {
        "id": "lKRlpWElgxmi",
        "colab_type": "code",
        "colab": {}
      },
      "source": [
        "conv_arch = ((1, 64), (1, 128), (2, 256), (2, 512), (2, 512))\n",
        "def vgg(conv_arch):\n",
        "  model_vgg=tf.keras.Sequential()\n",
        "  for no_of_convNets,no_of_channels in conv_arch:\n",
        "    model_vgg.add(vgg_block(number_of_channels=no_of_channels,no_of_convNets=no_of_convNets))\n",
        "  model_vgg.add(tf.keras.layers.Dense(4096,activation=tf.nn.relu))\n",
        "  model_vgg.add(tf.keras.layers.Dropout(rate=0.5))\n",
        "  model_vgg.add(tf.keras.layers.Dense(4096,activation=tf.nn.relu))\n",
        "  model_vgg.add(tf.keras.layers.Dropout(rate=0.5))\n",
        "  return model_vgg"
      ],
      "execution_count": 0,
      "outputs": []
    },
    {
      "cell_type": "code",
      "metadata": {
        "id": "AM3N1iDWi6AW",
        "colab_type": "code",
        "colab": {}
      },
      "source": [
        "md=vgg(conv_arch)\n"
      ],
      "execution_count": 0,
      "outputs": []
    }
  ]
}